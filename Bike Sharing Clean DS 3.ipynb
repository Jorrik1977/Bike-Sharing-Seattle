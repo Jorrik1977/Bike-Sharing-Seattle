{
 "cells": [
  {
   "cell_type": "markdown",
   "metadata": {},
   "source": [
    "# Weather Dataset 3"
   ]
  },
  {
   "cell_type": "markdown",
   "metadata": {},
   "source": [
    "# 1. Importing Libraries + Load Dataset"
   ]
  },
  {
   "cell_type": "code",
   "execution_count": 2,
   "metadata": {},
   "outputs": [],
   "source": [
    "import pandas as pd\n",
    "import matplotlib.pyplot as plt\n",
    "import numpy as np\n",
    "import seaborn as sb\n",
    "%matplotlib inline"
   ]
  },
  {
   "cell_type": "code",
   "execution_count": 3,
   "metadata": {
    "scrolled": false
   },
   "outputs": [],
   "source": [
    "weather = pd.read_csv('weather.csv', error_bad_lines=False, parse_dates=['Date'], infer_datetime_format=True, na_values=['-','-'])"
   ]
  },
  {
   "cell_type": "markdown",
   "metadata": {},
   "source": [
    "# 2. Basic EDA"
   ]
  },
  {
   "cell_type": "code",
   "execution_count": 5,
   "metadata": {},
   "outputs": [
    {
     "data": {
      "text/html": [
       "<div>\n",
       "<style scoped>\n",
       "    .dataframe tbody tr th:only-of-type {\n",
       "        vertical-align: middle;\n",
       "    }\n",
       "\n",
       "    .dataframe tbody tr th {\n",
       "        vertical-align: top;\n",
       "    }\n",
       "\n",
       "    .dataframe thead th {\n",
       "        text-align: right;\n",
       "    }\n",
       "</style>\n",
       "<table border=\"1\" class=\"dataframe\">\n",
       "  <thead>\n",
       "    <tr style=\"text-align: right;\">\n",
       "      <th></th>\n",
       "      <th>date</th>\n",
       "      <th>max_temperature_f</th>\n",
       "      <th>mean_temperature_f</th>\n",
       "      <th>min_temperaturef</th>\n",
       "      <th>max_dew_point_f</th>\n",
       "      <th>meandew_point_f</th>\n",
       "      <th>min_dewpoint_f</th>\n",
       "      <th>max_humidity</th>\n",
       "      <th>mean_humidity</th>\n",
       "      <th>min_humidity</th>\n",
       "      <th>max_sea_level_pressure_in</th>\n",
       "      <th>mean_sea_level_pressure_in</th>\n",
       "      <th>min_sea_level_pressure_in</th>\n",
       "      <th>max_visibility_miles</th>\n",
       "      <th>mean_visibility_miles</th>\n",
       "      <th>min_visibility_miles</th>\n",
       "      <th>max_wind_speed_mph</th>\n",
       "      <th>mean_wind_speed_mph</th>\n",
       "      <th>max_gust_speed_mph</th>\n",
       "      <th>precipitation_in</th>\n",
       "      <th>events</th>\n",
       "    </tr>\n",
       "  </thead>\n",
       "  <tbody>\n",
       "    <tr>\n",
       "      <th>0</th>\n",
       "      <td>2014-10-13</td>\n",
       "      <td>71</td>\n",
       "      <td>62.0</td>\n",
       "      <td>54</td>\n",
       "      <td>55</td>\n",
       "      <td>51</td>\n",
       "      <td>46</td>\n",
       "      <td>87</td>\n",
       "      <td>68</td>\n",
       "      <td>46</td>\n",
       "      <td>30.03</td>\n",
       "      <td>29.79</td>\n",
       "      <td>29.65</td>\n",
       "      <td>10</td>\n",
       "      <td>10</td>\n",
       "      <td>4</td>\n",
       "      <td>13</td>\n",
       "      <td>4</td>\n",
       "      <td>21.0</td>\n",
       "      <td>0.00</td>\n",
       "      <td>Rain</td>\n",
       "    </tr>\n",
       "    <tr>\n",
       "      <th>1</th>\n",
       "      <td>2014-10-14</td>\n",
       "      <td>63</td>\n",
       "      <td>59.0</td>\n",
       "      <td>55</td>\n",
       "      <td>52</td>\n",
       "      <td>51</td>\n",
       "      <td>50</td>\n",
       "      <td>88</td>\n",
       "      <td>78</td>\n",
       "      <td>63</td>\n",
       "      <td>29.84</td>\n",
       "      <td>29.75</td>\n",
       "      <td>29.54</td>\n",
       "      <td>10</td>\n",
       "      <td>9</td>\n",
       "      <td>3</td>\n",
       "      <td>10</td>\n",
       "      <td>5</td>\n",
       "      <td>17.0</td>\n",
       "      <td>0.11</td>\n",
       "      <td>Rain</td>\n",
       "    </tr>\n",
       "    <tr>\n",
       "      <th>2</th>\n",
       "      <td>2014-10-15</td>\n",
       "      <td>62</td>\n",
       "      <td>58.0</td>\n",
       "      <td>54</td>\n",
       "      <td>53</td>\n",
       "      <td>50</td>\n",
       "      <td>46</td>\n",
       "      <td>87</td>\n",
       "      <td>77</td>\n",
       "      <td>67</td>\n",
       "      <td>29.98</td>\n",
       "      <td>29.71</td>\n",
       "      <td>29.51</td>\n",
       "      <td>10</td>\n",
       "      <td>9</td>\n",
       "      <td>3</td>\n",
       "      <td>18</td>\n",
       "      <td>7</td>\n",
       "      <td>25.0</td>\n",
       "      <td>0.45</td>\n",
       "      <td>Rain</td>\n",
       "    </tr>\n",
       "    <tr>\n",
       "      <th>3</th>\n",
       "      <td>2014-10-16</td>\n",
       "      <td>71</td>\n",
       "      <td>61.0</td>\n",
       "      <td>52</td>\n",
       "      <td>49</td>\n",
       "      <td>46</td>\n",
       "      <td>42</td>\n",
       "      <td>83</td>\n",
       "      <td>61</td>\n",
       "      <td>36</td>\n",
       "      <td>30.03</td>\n",
       "      <td>29.95</td>\n",
       "      <td>29.81</td>\n",
       "      <td>10</td>\n",
       "      <td>10</td>\n",
       "      <td>10</td>\n",
       "      <td>9</td>\n",
       "      <td>4</td>\n",
       "      <td>NaN</td>\n",
       "      <td>0.00</td>\n",
       "      <td>Rain</td>\n",
       "    </tr>\n",
       "    <tr>\n",
       "      <th>4</th>\n",
       "      <td>2014-10-17</td>\n",
       "      <td>64</td>\n",
       "      <td>60.0</td>\n",
       "      <td>57</td>\n",
       "      <td>55</td>\n",
       "      <td>51</td>\n",
       "      <td>41</td>\n",
       "      <td>87</td>\n",
       "      <td>72</td>\n",
       "      <td>46</td>\n",
       "      <td>29.83</td>\n",
       "      <td>29.78</td>\n",
       "      <td>29.73</td>\n",
       "      <td>10</td>\n",
       "      <td>10</td>\n",
       "      <td>6</td>\n",
       "      <td>8</td>\n",
       "      <td>3</td>\n",
       "      <td>NaN</td>\n",
       "      <td>0.14</td>\n",
       "      <td>Rain</td>\n",
       "    </tr>\n",
       "  </tbody>\n",
       "</table>\n",
       "</div>"
      ],
      "text/plain": [
       "        date  max_temperature_f  mean_temperature_f  min_temperaturef  \\\n",
       "0 2014-10-13                 71                62.0                54   \n",
       "1 2014-10-14                 63                59.0                55   \n",
       "2 2014-10-15                 62                58.0                54   \n",
       "3 2014-10-16                 71                61.0                52   \n",
       "4 2014-10-17                 64                60.0                57   \n",
       "\n",
       "   max_dew_point_f  meandew_point_f  min_dewpoint_f  max_humidity  \\\n",
       "0               55               51              46            87   \n",
       "1               52               51              50            88   \n",
       "2               53               50              46            87   \n",
       "3               49               46              42            83   \n",
       "4               55               51              41            87   \n",
       "\n",
       "   mean_humidity  min_humidity  max_sea_level_pressure_in  \\\n",
       "0             68            46                      30.03   \n",
       "1             78            63                      29.84   \n",
       "2             77            67                      29.98   \n",
       "3             61            36                      30.03   \n",
       "4             72            46                      29.83   \n",
       "\n",
       "   mean_sea_level_pressure_in  min_sea_level_pressure_in  \\\n",
       "0                       29.79                      29.65   \n",
       "1                       29.75                      29.54   \n",
       "2                       29.71                      29.51   \n",
       "3                       29.95                      29.81   \n",
       "4                       29.78                      29.73   \n",
       "\n",
       "   max_visibility_miles  mean_visibility_miles  min_visibility_miles  \\\n",
       "0                    10                     10                     4   \n",
       "1                    10                      9                     3   \n",
       "2                    10                      9                     3   \n",
       "3                    10                     10                    10   \n",
       "4                    10                     10                     6   \n",
       "\n",
       "   max_wind_speed_mph  mean_wind_speed_mph  max_gust_speed_mph  \\\n",
       "0                  13                    4                21.0   \n",
       "1                  10                    5                17.0   \n",
       "2                  18                    7                25.0   \n",
       "3                   9                    4                 NaN   \n",
       "4                   8                    3                 NaN   \n",
       "\n",
       "   precipitation_in events  \n",
       "0              0.00   Rain  \n",
       "1              0.11   Rain  \n",
       "2              0.45   Rain  \n",
       "3              0.00   Rain  \n",
       "4              0.14   Rain  "
      ]
     },
     "execution_count": 5,
     "metadata": {},
     "output_type": "execute_result"
    }
   ],
   "source": [
    "pd.set_option('display.max_columns', 22) \n",
    "weather.columns = weather.columns.str.lower() # lower columns description\n",
    "weather.head()"
   ]
  },
  {
   "cell_type": "code",
   "execution_count": 6,
   "metadata": {
    "scrolled": true
   },
   "outputs": [
    {
     "data": {
      "text/plain": [
       "(689, 21)"
      ]
     },
     "execution_count": 6,
     "metadata": {},
     "output_type": "execute_result"
    }
   ],
   "source": [
    "weather.shape"
   ]
  },
  {
   "cell_type": "code",
   "execution_count": 7,
   "metadata": {},
   "outputs": [
    {
     "data": {
      "text/html": [
       "<div>\n",
       "<style scoped>\n",
       "    .dataframe tbody tr th:only-of-type {\n",
       "        vertical-align: middle;\n",
       "    }\n",
       "\n",
       "    .dataframe tbody tr th {\n",
       "        vertical-align: top;\n",
       "    }\n",
       "\n",
       "    .dataframe thead th {\n",
       "        text-align: right;\n",
       "    }\n",
       "</style>\n",
       "<table border=\"1\" class=\"dataframe\">\n",
       "  <thead>\n",
       "    <tr style=\"text-align: right;\">\n",
       "      <th></th>\n",
       "      <th>max_temperature_f</th>\n",
       "      <th>mean_temperature_f</th>\n",
       "      <th>min_temperaturef</th>\n",
       "      <th>max_dew_point_f</th>\n",
       "      <th>meandew_point_f</th>\n",
       "      <th>min_dewpoint_f</th>\n",
       "      <th>max_humidity</th>\n",
       "      <th>mean_humidity</th>\n",
       "      <th>min_humidity</th>\n",
       "      <th>max_sea_level_pressure_in</th>\n",
       "      <th>mean_sea_level_pressure_in</th>\n",
       "      <th>min_sea_level_pressure_in</th>\n",
       "      <th>max_visibility_miles</th>\n",
       "      <th>mean_visibility_miles</th>\n",
       "      <th>min_visibility_miles</th>\n",
       "      <th>max_wind_speed_mph</th>\n",
       "      <th>mean_wind_speed_mph</th>\n",
       "      <th>max_gust_speed_mph</th>\n",
       "      <th>precipitation_in</th>\n",
       "    </tr>\n",
       "  </thead>\n",
       "  <tbody>\n",
       "    <tr>\n",
       "      <th>count</th>\n",
       "      <td>689.000000</td>\n",
       "      <td>688.000000</td>\n",
       "      <td>689.000000</td>\n",
       "      <td>689.000000</td>\n",
       "      <td>689.000000</td>\n",
       "      <td>689.000000</td>\n",
       "      <td>689.000000</td>\n",
       "      <td>689.000000</td>\n",
       "      <td>689.000000</td>\n",
       "      <td>689.000000</td>\n",
       "      <td>689.000000</td>\n",
       "      <td>689.000000</td>\n",
       "      <td>689.000000</td>\n",
       "      <td>689.000000</td>\n",
       "      <td>689.000000</td>\n",
       "      <td>689.000000</td>\n",
       "      <td>689.00000</td>\n",
       "      <td>279.000000</td>\n",
       "      <td>689.000000</td>\n",
       "    </tr>\n",
       "    <tr>\n",
       "      <th>mean</th>\n",
       "      <td>64.027576</td>\n",
       "      <td>56.584302</td>\n",
       "      <td>49.454282</td>\n",
       "      <td>48.571843</td>\n",
       "      <td>45.021771</td>\n",
       "      <td>40.873730</td>\n",
       "      <td>84.541364</td>\n",
       "      <td>68.506531</td>\n",
       "      <td>49.973875</td>\n",
       "      <td>30.121742</td>\n",
       "      <td>30.034761</td>\n",
       "      <td>29.940610</td>\n",
       "      <td>9.989840</td>\n",
       "      <td>9.429608</td>\n",
       "      <td>7.245283</td>\n",
       "      <td>11.085631</td>\n",
       "      <td>4.63135</td>\n",
       "      <td>22.849462</td>\n",
       "      <td>0.105065</td>\n",
       "    </tr>\n",
       "    <tr>\n",
       "      <th>std</th>\n",
       "      <td>12.427843</td>\n",
       "      <td>10.408058</td>\n",
       "      <td>9.451437</td>\n",
       "      <td>7.501230</td>\n",
       "      <td>7.914025</td>\n",
       "      <td>8.854608</td>\n",
       "      <td>9.718948</td>\n",
       "      <td>12.701871</td>\n",
       "      <td>15.825701</td>\n",
       "      <td>0.183367</td>\n",
       "      <td>0.197503</td>\n",
       "      <td>0.221803</td>\n",
       "      <td>0.266679</td>\n",
       "      <td>1.174360</td>\n",
       "      <td>3.281278</td>\n",
       "      <td>3.921087</td>\n",
       "      <td>2.78032</td>\n",
       "      <td>6.083258</td>\n",
       "      <td>0.235644</td>\n",
       "    </tr>\n",
       "    <tr>\n",
       "      <th>min</th>\n",
       "      <td>39.000000</td>\n",
       "      <td>33.000000</td>\n",
       "      <td>23.000000</td>\n",
       "      <td>10.000000</td>\n",
       "      <td>4.000000</td>\n",
       "      <td>1.000000</td>\n",
       "      <td>40.000000</td>\n",
       "      <td>24.000000</td>\n",
       "      <td>15.000000</td>\n",
       "      <td>29.470000</td>\n",
       "      <td>29.310000</td>\n",
       "      <td>29.140000</td>\n",
       "      <td>3.000000</td>\n",
       "      <td>1.000000</td>\n",
       "      <td>0.000000</td>\n",
       "      <td>4.000000</td>\n",
       "      <td>0.00000</td>\n",
       "      <td>16.000000</td>\n",
       "      <td>0.000000</td>\n",
       "    </tr>\n",
       "    <tr>\n",
       "      <th>25%</th>\n",
       "      <td>55.000000</td>\n",
       "      <td>48.000000</td>\n",
       "      <td>43.000000</td>\n",
       "      <td>44.000000</td>\n",
       "      <td>41.000000</td>\n",
       "      <td>36.000000</td>\n",
       "      <td>78.000000</td>\n",
       "      <td>60.000000</td>\n",
       "      <td>38.000000</td>\n",
       "      <td>30.010000</td>\n",
       "      <td>29.930000</td>\n",
       "      <td>29.840000</td>\n",
       "      <td>10.000000</td>\n",
       "      <td>9.000000</td>\n",
       "      <td>4.000000</td>\n",
       "      <td>8.000000</td>\n",
       "      <td>3.00000</td>\n",
       "      <td>18.000000</td>\n",
       "      <td>0.000000</td>\n",
       "    </tr>\n",
       "    <tr>\n",
       "      <th>50%</th>\n",
       "      <td>63.000000</td>\n",
       "      <td>56.000000</td>\n",
       "      <td>50.000000</td>\n",
       "      <td>50.000000</td>\n",
       "      <td>46.000000</td>\n",
       "      <td>42.000000</td>\n",
       "      <td>86.000000</td>\n",
       "      <td>70.000000</td>\n",
       "      <td>50.000000</td>\n",
       "      <td>30.120000</td>\n",
       "      <td>30.040000</td>\n",
       "      <td>29.960000</td>\n",
       "      <td>10.000000</td>\n",
       "      <td>10.000000</td>\n",
       "      <td>9.000000</td>\n",
       "      <td>10.000000</td>\n",
       "      <td>4.00000</td>\n",
       "      <td>21.000000</td>\n",
       "      <td>0.000000</td>\n",
       "    </tr>\n",
       "    <tr>\n",
       "      <th>75%</th>\n",
       "      <td>73.000000</td>\n",
       "      <td>65.000000</td>\n",
       "      <td>57.000000</td>\n",
       "      <td>54.000000</td>\n",
       "      <td>51.000000</td>\n",
       "      <td>47.000000</td>\n",
       "      <td>90.000000</td>\n",
       "      <td>79.000000</td>\n",
       "      <td>63.000000</td>\n",
       "      <td>30.240000</td>\n",
       "      <td>30.160000</td>\n",
       "      <td>30.080000</td>\n",
       "      <td>10.000000</td>\n",
       "      <td>10.000000</td>\n",
       "      <td>10.000000</td>\n",
       "      <td>13.000000</td>\n",
       "      <td>6.00000</td>\n",
       "      <td>25.000000</td>\n",
       "      <td>0.090000</td>\n",
       "    </tr>\n",
       "    <tr>\n",
       "      <th>max</th>\n",
       "      <td>98.000000</td>\n",
       "      <td>83.000000</td>\n",
       "      <td>70.000000</td>\n",
       "      <td>77.000000</td>\n",
       "      <td>59.000000</td>\n",
       "      <td>57.000000</td>\n",
       "      <td>100.000000</td>\n",
       "      <td>95.000000</td>\n",
       "      <td>87.000000</td>\n",
       "      <td>30.860000</td>\n",
       "      <td>30.810000</td>\n",
       "      <td>30.750000</td>\n",
       "      <td>10.000000</td>\n",
       "      <td>10.000000</td>\n",
       "      <td>10.000000</td>\n",
       "      <td>30.000000</td>\n",
       "      <td>23.00000</td>\n",
       "      <td>52.000000</td>\n",
       "      <td>2.200000</td>\n",
       "    </tr>\n",
       "  </tbody>\n",
       "</table>\n",
       "</div>"
      ],
      "text/plain": [
       "       max_temperature_f  mean_temperature_f  min_temperaturef  \\\n",
       "count         689.000000          688.000000        689.000000   \n",
       "mean           64.027576           56.584302         49.454282   \n",
       "std            12.427843           10.408058          9.451437   \n",
       "min            39.000000           33.000000         23.000000   \n",
       "25%            55.000000           48.000000         43.000000   \n",
       "50%            63.000000           56.000000         50.000000   \n",
       "75%            73.000000           65.000000         57.000000   \n",
       "max            98.000000           83.000000         70.000000   \n",
       "\n",
       "       max_dew_point_f  meandew_point_f  min_dewpoint_f  max_humidity  \\\n",
       "count       689.000000       689.000000      689.000000    689.000000   \n",
       "mean         48.571843        45.021771       40.873730     84.541364   \n",
       "std           7.501230         7.914025        8.854608      9.718948   \n",
       "min          10.000000         4.000000        1.000000     40.000000   \n",
       "25%          44.000000        41.000000       36.000000     78.000000   \n",
       "50%          50.000000        46.000000       42.000000     86.000000   \n",
       "75%          54.000000        51.000000       47.000000     90.000000   \n",
       "max          77.000000        59.000000       57.000000    100.000000   \n",
       "\n",
       "       mean_humidity  min_humidity  max_sea_level_pressure_in  \\\n",
       "count     689.000000    689.000000                 689.000000   \n",
       "mean       68.506531     49.973875                  30.121742   \n",
       "std        12.701871     15.825701                   0.183367   \n",
       "min        24.000000     15.000000                  29.470000   \n",
       "25%        60.000000     38.000000                  30.010000   \n",
       "50%        70.000000     50.000000                  30.120000   \n",
       "75%        79.000000     63.000000                  30.240000   \n",
       "max        95.000000     87.000000                  30.860000   \n",
       "\n",
       "       mean_sea_level_pressure_in  min_sea_level_pressure_in  \\\n",
       "count                  689.000000                 689.000000   \n",
       "mean                    30.034761                  29.940610   \n",
       "std                      0.197503                   0.221803   \n",
       "min                     29.310000                  29.140000   \n",
       "25%                     29.930000                  29.840000   \n",
       "50%                     30.040000                  29.960000   \n",
       "75%                     30.160000                  30.080000   \n",
       "max                     30.810000                  30.750000   \n",
       "\n",
       "       max_visibility_miles  mean_visibility_miles  min_visibility_miles  \\\n",
       "count            689.000000             689.000000            689.000000   \n",
       "mean               9.989840               9.429608              7.245283   \n",
       "std                0.266679               1.174360              3.281278   \n",
       "min                3.000000               1.000000              0.000000   \n",
       "25%               10.000000               9.000000              4.000000   \n",
       "50%               10.000000              10.000000              9.000000   \n",
       "75%               10.000000              10.000000             10.000000   \n",
       "max               10.000000              10.000000             10.000000   \n",
       "\n",
       "       max_wind_speed_mph  mean_wind_speed_mph  max_gust_speed_mph  \\\n",
       "count          689.000000            689.00000          279.000000   \n",
       "mean            11.085631              4.63135           22.849462   \n",
       "std              3.921087              2.78032            6.083258   \n",
       "min              4.000000              0.00000           16.000000   \n",
       "25%              8.000000              3.00000           18.000000   \n",
       "50%             10.000000              4.00000           21.000000   \n",
       "75%             13.000000              6.00000           25.000000   \n",
       "max             30.000000             23.00000           52.000000   \n",
       "\n",
       "       precipitation_in  \n",
       "count        689.000000  \n",
       "mean           0.105065  \n",
       "std            0.235644  \n",
       "min            0.000000  \n",
       "25%            0.000000  \n",
       "50%            0.000000  \n",
       "75%            0.090000  \n",
       "max            2.200000  "
      ]
     },
     "execution_count": 7,
     "metadata": {},
     "output_type": "execute_result"
    }
   ],
   "source": [
    "weather.describe() "
   ]
  },
  {
   "cell_type": "code",
   "execution_count": 8,
   "metadata": {},
   "outputs": [
    {
     "name": "stdout",
     "output_type": "stream",
     "text": [
      "<class 'pandas.core.frame.DataFrame'>\n",
      "RangeIndex: 689 entries, 0 to 688\n",
      "Data columns (total 21 columns):\n",
      "date                          689 non-null datetime64[ns]\n",
      "max_temperature_f             689 non-null int64\n",
      "mean_temperature_f            688 non-null float64\n",
      "min_temperaturef              689 non-null int64\n",
      "max_dew_point_f               689 non-null int64\n",
      "meandew_point_f               689 non-null int64\n",
      "min_dewpoint_f                689 non-null int64\n",
      "max_humidity                  689 non-null int64\n",
      "mean_humidity                 689 non-null int64\n",
      "min_humidity                  689 non-null int64\n",
      "max_sea_level_pressure_in     689 non-null float64\n",
      "mean_sea_level_pressure_in    689 non-null float64\n",
      "min_sea_level_pressure_in     689 non-null float64\n",
      "max_visibility_miles          689 non-null int64\n",
      "mean_visibility_miles         689 non-null int64\n",
      "min_visibility_miles          689 non-null int64\n",
      "max_wind_speed_mph            689 non-null int64\n",
      "mean_wind_speed_mph           689 non-null int64\n",
      "max_gust_speed_mph            279 non-null float64\n",
      "precipitation_in              689 non-null float64\n",
      "events                        328 non-null object\n",
      "dtypes: datetime64[ns](1), float64(6), int64(13), object(1)\n",
      "memory usage: 113.1+ KB\n"
     ]
    }
   ],
   "source": [
    "weather.info()"
   ]
  },
  {
   "cell_type": "markdown",
   "metadata": {},
   "source": [
    "# 3. Double Rows"
   ]
  },
  {
   "cell_type": "code",
   "execution_count": 9,
   "metadata": {},
   "outputs": [
    {
     "name": "stdout",
     "output_type": "stream",
     "text": [
      "number of duplicate rows:  (0, 21)\n"
     ]
    }
   ],
   "source": [
    "duplicate_rows_df = weather[weather.duplicated()]    # no duplicates\n",
    "print (\"number of duplicate rows: \", duplicate_rows_df.shape)"
   ]
  },
  {
   "cell_type": "markdown",
   "metadata": {},
   "source": [
    "# 4. Missing values"
   ]
  },
  {
   "cell_type": "code",
   "execution_count": 10,
   "metadata": {
    "scrolled": false
   },
   "outputs": [
    {
     "data": {
      "text/plain": [
       "max_gust_speed_mph            410\n",
       "events                        361\n",
       "mean_temperature_f              1\n",
       "min_humidity                    0\n",
       "max_temperature_f               0\n",
       "min_temperaturef                0\n",
       "max_dew_point_f                 0\n",
       "meandew_point_f                 0\n",
       "min_dewpoint_f                  0\n",
       "max_humidity                    0\n",
       "mean_humidity                   0\n",
       "max_sea_level_pressure_in       0\n",
       "precipitation_in                0\n",
       "mean_sea_level_pressure_in      0\n",
       "min_sea_level_pressure_in       0\n",
       "max_visibility_miles            0\n",
       "mean_visibility_miles           0\n",
       "min_visibility_miles            0\n",
       "max_wind_speed_mph              0\n",
       "mean_wind_speed_mph             0\n",
       "date                            0\n",
       "dtype: int64"
      ]
     },
     "execution_count": 10,
     "metadata": {},
     "output_type": "execute_result"
    }
   ],
   "source": [
    "total = weather.isnull().sum().sort_values(ascending=False)  \n",
    "total"
   ]
  },
  {
   "cell_type": "code",
   "execution_count": 11,
   "metadata": {
    "scrolled": false
   },
   "outputs": [
    {
     "data": {
      "image/png": "[encoded data removed]",
      "text/plain": [
       "<Figure size 1152x576 with 1 Axes>"
      ]
     },
     "metadata": {
      "needs_background": "light"
     },
     "output_type": "display_data"
    }
   ],
   "source": [
    "plt.figure(figsize=(16, 8))\n",
    "sb.heatmap(weather.isnull(), yticklabels=False, cbar=False, cmap='viridis')\n",
    "plt.show()"
   ]
  },
  {
   "cell_type": "markdown",
   "metadata": {},
   "source": [
    "**1. Mean Temperature**"
   ]
  },
  {
   "cell_type": "code",
   "execution_count": 12,
   "metadata": {},
   "outputs": [],
   "source": [
    "# 1 mean temperature from other column"
   ]
  },
  {
   "cell_type": "code",
   "execution_count": 13,
   "metadata": {
    "scrolled": true
   },
   "outputs": [
    {
     "name": "stdout",
     "output_type": "stream",
     "text": [
      "     mean_temperature_f  max_gust_speed_mph events\n",
      "489                 NaN                 NaN    NaN\n"
     ]
    }
   ],
   "source": [
    "#locate row of NaN\n",
    "null_columns = weather.columns[weather.isnull().any()]\n",
    "weather[null_columns].isnull().sum()\n",
    "print(weather[weather[\"mean_temperature_f\"].isnull()][null_columns])"
   ]
  },
  {
   "cell_type": "code",
   "execution_count": 14,
   "metadata": {
    "scrolled": false
   },
   "outputs": [
    {
     "data": {
      "text/plain": [
       "date                          2016-02-14 00:00:00\n",
       "max_temperature_f                              55\n",
       "mean_temperature_f                            NaN\n",
       "min_temperaturef                               55\n",
       "max_dew_point_f                                50\n",
       "meandew_point_f                                50\n",
       "min_dewpoint_f                                 50\n",
       "max_humidity                                   82\n",
       "mean_humidity                                  82\n",
       "min_humidity                                   82\n",
       "max_sea_level_pressure_in                   30.12\n",
       "mean_sea_level_pressure_in                  30.12\n",
       "min_sea_level_pressure_in                   30.12\n",
       "max_visibility_miles                           10\n",
       "mean_visibility_miles                          10\n",
       "min_visibility_miles                           10\n",
       "max_wind_speed_mph                             23\n",
       "mean_wind_speed_mph                            23\n",
       "max_gust_speed_mph                            NaN\n",
       "precipitation_in                                0\n",
       "events                                        NaN\n",
       "Name: 489, dtype: object"
      ]
     },
     "execution_count": 14,
     "metadata": {},
     "output_type": "execute_result"
    }
   ],
   "source": [
    "weather.iloc[489]"
   ]
  },
  {
   "cell_type": "code",
   "execution_count": 15,
   "metadata": {},
   "outputs": [],
   "source": [
    "#weather['mean_temperature_f'].fillna(method='bfill', inplace=True)\n",
    "weather.loc[weather['mean_temperature_f'].isnull(),'mean_temperature_f'] = weather['max_temperature_f']"
   ]
  },
  {
   "cell_type": "code",
   "execution_count": 16,
   "metadata": {},
   "outputs": [
    {
     "data": {
      "text/plain": [
       "date                          2016-02-14 00:00:00\n",
       "max_temperature_f                              55\n",
       "mean_temperature_f                             55\n",
       "min_temperaturef                               55\n",
       "max_dew_point_f                                50\n",
       "meandew_point_f                                50\n",
       "min_dewpoint_f                                 50\n",
       "max_humidity                                   82\n",
       "mean_humidity                                  82\n",
       "min_humidity                                   82\n",
       "max_sea_level_pressure_in                   30.12\n",
       "mean_sea_level_pressure_in                  30.12\n",
       "min_sea_level_pressure_in                   30.12\n",
       "max_visibility_miles                           10\n",
       "mean_visibility_miles                          10\n",
       "min_visibility_miles                           10\n",
       "max_wind_speed_mph                             23\n",
       "mean_wind_speed_mph                            23\n",
       "max_gust_speed_mph                            NaN\n",
       "precipitation_in                                0\n",
       "events                                        NaN\n",
       "Name: 489, dtype: object"
      ]
     },
     "execution_count": 16,
     "metadata": {},
     "output_type": "execute_result"
    }
   ],
   "source": [
    "weather.iloc[489]"
   ]
  },
  {
   "cell_type": "markdown",
   "metadata": {},
   "source": [
    "**2. Max Gust**"
   ]
  },
  {
   "cell_type": "markdown",
   "metadata": {},
   "source": [
    "gust speed = Böengeschwindigkeit "
   ]
  },
  {
   "cell_type": "code",
   "execution_count": 17,
   "metadata": {},
   "outputs": [],
   "source": [
    "# max_wind and max_gust are well correlated, so we can use max_wind to help fill the null values of max_gust"
   ]
  },
  {
   "cell_type": "code",
   "execution_count": 18,
   "metadata": {},
   "outputs": [],
   "source": [
    "gust = weather['max_gust_speed_mph'] / weather['max_wind_speed_mph']  # Factor is 1.6"
   ]
  },
  {
   "cell_type": "code",
   "execution_count": 19,
   "metadata": {
    "scrolled": true
   },
   "outputs": [
    {
     "data": {
      "text/plain": [
       "<matplotlib.axes._subplots.AxesSubplot at 0x1a177d4eb8>"
      ]
     },
     "execution_count": 19,
     "metadata": {},
     "output_type": "execute_result"
    },
    {
     "data": {
      "image/png": "[encoded data removed]",
      "text/plain": [
       "<Figure size 432x288 with 1 Axes>"
      ]
     },
     "metadata": {
      "needs_background": "light"
     },
     "output_type": "display_data"
    }
   ],
   "source": [
    "gust.hist()"
   ]
  },
  {
   "cell_type": "code",
   "execution_count": 20,
   "metadata": {},
   "outputs": [
    {
     "data": {
      "text/plain": [
       "<matplotlib.collections.PathCollection at 0x1a17b37630>"
      ]
     },
     "execution_count": 20,
     "metadata": {},
     "output_type": "execute_result"
    },
    {
     "data": {
      "image/png": "[encoded data removed]",
      "text/plain": [
       "<Figure size 432x288 with 1 Axes>"
      ]
     },
     "metadata": {
      "needs_background": "light"
     },
     "output_type": "display_data"
    }
   ],
   "source": [
    "plt.scatter(weather['max_gust_speed_mph'], gust)"
   ]
  },
  {
   "cell_type": "code",
   "execution_count": 21,
   "metadata": {
    "scrolled": true
   },
   "outputs": [
    {
     "data": {
      "text/html": [
       "<div>\n",
       "<style scoped>\n",
       "    .dataframe tbody tr th:only-of-type {\n",
       "        vertical-align: middle;\n",
       "    }\n",
       "\n",
       "    .dataframe tbody tr th {\n",
       "        vertical-align: top;\n",
       "    }\n",
       "\n",
       "    .dataframe thead th {\n",
       "        text-align: right;\n",
       "    }\n",
       "</style>\n",
       "<table border=\"1\" class=\"dataframe\">\n",
       "  <thead>\n",
       "    <tr style=\"text-align: right;\">\n",
       "      <th></th>\n",
       "      <th>date</th>\n",
       "      <th>max_temperature_f</th>\n",
       "      <th>mean_temperature_f</th>\n",
       "      <th>min_temperaturef</th>\n",
       "      <th>max_dew_point_f</th>\n",
       "      <th>meandew_point_f</th>\n",
       "      <th>min_dewpoint_f</th>\n",
       "      <th>max_humidity</th>\n",
       "      <th>mean_humidity</th>\n",
       "      <th>min_humidity</th>\n",
       "      <th>max_sea_level_pressure_in</th>\n",
       "      <th>mean_sea_level_pressure_in</th>\n",
       "      <th>min_sea_level_pressure_in</th>\n",
       "      <th>max_visibility_miles</th>\n",
       "      <th>mean_visibility_miles</th>\n",
       "      <th>min_visibility_miles</th>\n",
       "      <th>max_wind_speed_mph</th>\n",
       "      <th>mean_wind_speed_mph</th>\n",
       "      <th>max_gust_speed_mph</th>\n",
       "      <th>precipitation_in</th>\n",
       "      <th>events</th>\n",
       "    </tr>\n",
       "  </thead>\n",
       "  <tbody>\n",
       "    <tr>\n",
       "      <th>0</th>\n",
       "      <td>2014-10-13</td>\n",
       "      <td>71</td>\n",
       "      <td>62.0</td>\n",
       "      <td>54</td>\n",
       "      <td>55</td>\n",
       "      <td>51</td>\n",
       "      <td>46</td>\n",
       "      <td>87</td>\n",
       "      <td>68</td>\n",
       "      <td>46</td>\n",
       "      <td>30.03</td>\n",
       "      <td>29.79</td>\n",
       "      <td>29.65</td>\n",
       "      <td>10</td>\n",
       "      <td>10</td>\n",
       "      <td>4</td>\n",
       "      <td>13</td>\n",
       "      <td>4</td>\n",
       "      <td>21.0</td>\n",
       "      <td>0.00</td>\n",
       "      <td>Rain</td>\n",
       "    </tr>\n",
       "    <tr>\n",
       "      <th>1</th>\n",
       "      <td>2014-10-14</td>\n",
       "      <td>63</td>\n",
       "      <td>59.0</td>\n",
       "      <td>55</td>\n",
       "      <td>52</td>\n",
       "      <td>51</td>\n",
       "      <td>50</td>\n",
       "      <td>88</td>\n",
       "      <td>78</td>\n",
       "      <td>63</td>\n",
       "      <td>29.84</td>\n",
       "      <td>29.75</td>\n",
       "      <td>29.54</td>\n",
       "      <td>10</td>\n",
       "      <td>9</td>\n",
       "      <td>3</td>\n",
       "      <td>10</td>\n",
       "      <td>5</td>\n",
       "      <td>17.0</td>\n",
       "      <td>0.11</td>\n",
       "      <td>Rain</td>\n",
       "    </tr>\n",
       "    <tr>\n",
       "      <th>2</th>\n",
       "      <td>2014-10-15</td>\n",
       "      <td>62</td>\n",
       "      <td>58.0</td>\n",
       "      <td>54</td>\n",
       "      <td>53</td>\n",
       "      <td>50</td>\n",
       "      <td>46</td>\n",
       "      <td>87</td>\n",
       "      <td>77</td>\n",
       "      <td>67</td>\n",
       "      <td>29.98</td>\n",
       "      <td>29.71</td>\n",
       "      <td>29.51</td>\n",
       "      <td>10</td>\n",
       "      <td>9</td>\n",
       "      <td>3</td>\n",
       "      <td>18</td>\n",
       "      <td>7</td>\n",
       "      <td>25.0</td>\n",
       "      <td>0.45</td>\n",
       "      <td>Rain</td>\n",
       "    </tr>\n",
       "    <tr>\n",
       "      <th>3</th>\n",
       "      <td>2014-10-16</td>\n",
       "      <td>71</td>\n",
       "      <td>61.0</td>\n",
       "      <td>52</td>\n",
       "      <td>49</td>\n",
       "      <td>46</td>\n",
       "      <td>42</td>\n",
       "      <td>83</td>\n",
       "      <td>61</td>\n",
       "      <td>36</td>\n",
       "      <td>30.03</td>\n",
       "      <td>29.95</td>\n",
       "      <td>29.81</td>\n",
       "      <td>10</td>\n",
       "      <td>10</td>\n",
       "      <td>10</td>\n",
       "      <td>9</td>\n",
       "      <td>4</td>\n",
       "      <td>9.0</td>\n",
       "      <td>0.00</td>\n",
       "      <td>Rain</td>\n",
       "    </tr>\n",
       "    <tr>\n",
       "      <th>4</th>\n",
       "      <td>2014-10-17</td>\n",
       "      <td>64</td>\n",
       "      <td>60.0</td>\n",
       "      <td>57</td>\n",
       "      <td>55</td>\n",
       "      <td>51</td>\n",
       "      <td>41</td>\n",
       "      <td>87</td>\n",
       "      <td>72</td>\n",
       "      <td>46</td>\n",
       "      <td>29.83</td>\n",
       "      <td>29.78</td>\n",
       "      <td>29.73</td>\n",
       "      <td>10</td>\n",
       "      <td>10</td>\n",
       "      <td>6</td>\n",
       "      <td>8</td>\n",
       "      <td>3</td>\n",
       "      <td>8.0</td>\n",
       "      <td>0.14</td>\n",
       "      <td>Rain</td>\n",
       "    </tr>\n",
       "  </tbody>\n",
       "</table>\n",
       "</div>"
      ],
      "text/plain": [
       "        date  max_temperature_f  mean_temperature_f  min_temperaturef  \\\n",
       "0 2014-10-13                 71                62.0                54   \n",
       "1 2014-10-14                 63                59.0                55   \n",
       "2 2014-10-15                 62                58.0                54   \n",
       "3 2014-10-16                 71                61.0                52   \n",
       "4 2014-10-17                 64                60.0                57   \n",
       "\n",
       "   max_dew_point_f  meandew_point_f  min_dewpoint_f  max_humidity  \\\n",
       "0               55               51              46            87   \n",
       "1               52               51              50            88   \n",
       "2               53               50              46            87   \n",
       "3               49               46              42            83   \n",
       "4               55               51              41            87   \n",
       "\n",
       "   mean_humidity  min_humidity  max_sea_level_pressure_in  \\\n",
       "0             68            46                      30.03   \n",
       "1             78            63                      29.84   \n",
       "2             77            67                      29.98   \n",
       "3             61            36                      30.03   \n",
       "4             72            46                      29.83   \n",
       "\n",
       "   mean_sea_level_pressure_in  min_sea_level_pressure_in  \\\n",
       "0                       29.79                      29.65   \n",
       "1                       29.75                      29.54   \n",
       "2                       29.71                      29.51   \n",
       "3                       29.95                      29.81   \n",
       "4                       29.78                      29.73   \n",
       "\n",
       "   max_visibility_miles  mean_visibility_miles  min_visibility_miles  \\\n",
       "0                    10                     10                     4   \n",
       "1                    10                      9                     3   \n",
       "2                    10                      9                     3   \n",
       "3                    10                     10                    10   \n",
       "4                    10                     10                     6   \n",
       "\n",
       "   max_wind_speed_mph  mean_wind_speed_mph  max_gust_speed_mph  \\\n",
       "0                  13                    4                21.0   \n",
       "1                  10                    5                17.0   \n",
       "2                  18                    7                25.0   \n",
       "3                   9                    4                 9.0   \n",
       "4                   8                    3                 8.0   \n",
       "\n",
       "   precipitation_in events  \n",
       "0              0.00   Rain  \n",
       "1              0.11   Rain  \n",
       "2              0.45   Rain  \n",
       "3              0.00   Rain  \n",
       "4              0.14   Rain  "
      ]
     },
     "execution_count": 21,
     "metadata": {},
     "output_type": "execute_result"
    }
   ],
   "source": [
    "#fill missing values in max_gust with max_wind \n",
    "weather.loc[weather['max_gust_speed_mph'].isnull(),'max_gust_speed_mph'] = weather['max_wind_speed_mph'] \n",
    "weather.head()"
   ]
  },
  {
   "cell_type": "code",
   "execution_count": 22,
   "metadata": {},
   "outputs": [],
   "source": [
    "# gust speed object to numeric\n",
    "weather['max_gust_speed_mph'] = pd.to_numeric(weather['max_gust_speed_mph'])"
   ]
  },
  {
   "cell_type": "code",
   "execution_count": 23,
   "metadata": {},
   "outputs": [],
   "source": [
    "weather.drop(['max_gust_speed_mph'], axis = 1, inplace = True)"
   ]
  },
  {
   "cell_type": "code",
   "execution_count": 24,
   "metadata": {},
   "outputs": [
    {
     "data": {
      "text/html": [
       "<div>\n",
       "<style scoped>\n",
       "    .dataframe tbody tr th:only-of-type {\n",
       "        vertical-align: middle;\n",
       "    }\n",
       "\n",
       "    .dataframe tbody tr th {\n",
       "        vertical-align: top;\n",
       "    }\n",
       "\n",
       "    .dataframe thead th {\n",
       "        text-align: right;\n",
       "    }\n",
       "</style>\n",
       "<table border=\"1\" class=\"dataframe\">\n",
       "  <thead>\n",
       "    <tr style=\"text-align: right;\">\n",
       "      <th></th>\n",
       "      <th>date</th>\n",
       "      <th>max_temperature_f</th>\n",
       "      <th>mean_temperature_f</th>\n",
       "      <th>min_temperaturef</th>\n",
       "      <th>max_dew_point_f</th>\n",
       "      <th>meandew_point_f</th>\n",
       "      <th>min_dewpoint_f</th>\n",
       "      <th>max_humidity</th>\n",
       "      <th>mean_humidity</th>\n",
       "      <th>min_humidity</th>\n",
       "      <th>max_sea_level_pressure_in</th>\n",
       "      <th>mean_sea_level_pressure_in</th>\n",
       "      <th>min_sea_level_pressure_in</th>\n",
       "      <th>max_visibility_miles</th>\n",
       "      <th>mean_visibility_miles</th>\n",
       "      <th>min_visibility_miles</th>\n",
       "      <th>max_wind_speed_mph</th>\n",
       "      <th>mean_wind_speed_mph</th>\n",
       "      <th>precipitation_in</th>\n",
       "      <th>events</th>\n",
       "    </tr>\n",
       "  </thead>\n",
       "  <tbody>\n",
       "    <tr>\n",
       "      <th>0</th>\n",
       "      <td>2014-10-13</td>\n",
       "      <td>71</td>\n",
       "      <td>62.0</td>\n",
       "      <td>54</td>\n",
       "      <td>55</td>\n",
       "      <td>51</td>\n",
       "      <td>46</td>\n",
       "      <td>87</td>\n",
       "      <td>68</td>\n",
       "      <td>46</td>\n",
       "      <td>30.03</td>\n",
       "      <td>29.79</td>\n",
       "      <td>29.65</td>\n",
       "      <td>10</td>\n",
       "      <td>10</td>\n",
       "      <td>4</td>\n",
       "      <td>13</td>\n",
       "      <td>4</td>\n",
       "      <td>0.00</td>\n",
       "      <td>Rain</td>\n",
       "    </tr>\n",
       "    <tr>\n",
       "      <th>1</th>\n",
       "      <td>2014-10-14</td>\n",
       "      <td>63</td>\n",
       "      <td>59.0</td>\n",
       "      <td>55</td>\n",
       "      <td>52</td>\n",
       "      <td>51</td>\n",
       "      <td>50</td>\n",
       "      <td>88</td>\n",
       "      <td>78</td>\n",
       "      <td>63</td>\n",
       "      <td>29.84</td>\n",
       "      <td>29.75</td>\n",
       "      <td>29.54</td>\n",
       "      <td>10</td>\n",
       "      <td>9</td>\n",
       "      <td>3</td>\n",
       "      <td>10</td>\n",
       "      <td>5</td>\n",
       "      <td>0.11</td>\n",
       "      <td>Rain</td>\n",
       "    </tr>\n",
       "    <tr>\n",
       "      <th>2</th>\n",
       "      <td>2014-10-15</td>\n",
       "      <td>62</td>\n",
       "      <td>58.0</td>\n",
       "      <td>54</td>\n",
       "      <td>53</td>\n",
       "      <td>50</td>\n",
       "      <td>46</td>\n",
       "      <td>87</td>\n",
       "      <td>77</td>\n",
       "      <td>67</td>\n",
       "      <td>29.98</td>\n",
       "      <td>29.71</td>\n",
       "      <td>29.51</td>\n",
       "      <td>10</td>\n",
       "      <td>9</td>\n",
       "      <td>3</td>\n",
       "      <td>18</td>\n",
       "      <td>7</td>\n",
       "      <td>0.45</td>\n",
       "      <td>Rain</td>\n",
       "    </tr>\n",
       "    <tr>\n",
       "      <th>3</th>\n",
       "      <td>2014-10-16</td>\n",
       "      <td>71</td>\n",
       "      <td>61.0</td>\n",
       "      <td>52</td>\n",
       "      <td>49</td>\n",
       "      <td>46</td>\n",
       "      <td>42</td>\n",
       "      <td>83</td>\n",
       "      <td>61</td>\n",
       "      <td>36</td>\n",
       "      <td>30.03</td>\n",
       "      <td>29.95</td>\n",
       "      <td>29.81</td>\n",
       "      <td>10</td>\n",
       "      <td>10</td>\n",
       "      <td>10</td>\n",
       "      <td>9</td>\n",
       "      <td>4</td>\n",
       "      <td>0.00</td>\n",
       "      <td>Rain</td>\n",
       "    </tr>\n",
       "    <tr>\n",
       "      <th>4</th>\n",
       "      <td>2014-10-17</td>\n",
       "      <td>64</td>\n",
       "      <td>60.0</td>\n",
       "      <td>57</td>\n",
       "      <td>55</td>\n",
       "      <td>51</td>\n",
       "      <td>41</td>\n",
       "      <td>87</td>\n",
       "      <td>72</td>\n",
       "      <td>46</td>\n",
       "      <td>29.83</td>\n",
       "      <td>29.78</td>\n",
       "      <td>29.73</td>\n",
       "      <td>10</td>\n",
       "      <td>10</td>\n",
       "      <td>6</td>\n",
       "      <td>8</td>\n",
       "      <td>3</td>\n",
       "      <td>0.14</td>\n",
       "      <td>Rain</td>\n",
       "    </tr>\n",
       "  </tbody>\n",
       "</table>\n",
       "</div>"
      ],
      "text/plain": [
       "        date  max_temperature_f  mean_temperature_f  min_temperaturef  \\\n",
       "0 2014-10-13                 71                62.0                54   \n",
       "1 2014-10-14                 63                59.0                55   \n",
       "2 2014-10-15                 62                58.0                54   \n",
       "3 2014-10-16                 71                61.0                52   \n",
       "4 2014-10-17                 64                60.0                57   \n",
       "\n",
       "   max_dew_point_f  meandew_point_f  min_dewpoint_f  max_humidity  \\\n",
       "0               55               51              46            87   \n",
       "1               52               51              50            88   \n",
       "2               53               50              46            87   \n",
       "3               49               46              42            83   \n",
       "4               55               51              41            87   \n",
       "\n",
       "   mean_humidity  min_humidity  max_sea_level_pressure_in  \\\n",
       "0             68            46                      30.03   \n",
       "1             78            63                      29.84   \n",
       "2             77            67                      29.98   \n",
       "3             61            36                      30.03   \n",
       "4             72            46                      29.83   \n",
       "\n",
       "   mean_sea_level_pressure_in  min_sea_level_pressure_in  \\\n",
       "0                       29.79                      29.65   \n",
       "1                       29.75                      29.54   \n",
       "2                       29.71                      29.51   \n",
       "3                       29.95                      29.81   \n",
       "4                       29.78                      29.73   \n",
       "\n",
       "   max_visibility_miles  mean_visibility_miles  min_visibility_miles  \\\n",
       "0                    10                     10                     4   \n",
       "1                    10                      9                     3   \n",
       "2                    10                      9                     3   \n",
       "3                    10                     10                    10   \n",
       "4                    10                     10                     6   \n",
       "\n",
       "   max_wind_speed_mph  mean_wind_speed_mph  precipitation_in events  \n",
       "0                  13                    4              0.00   Rain  \n",
       "1                  10                    5              0.11   Rain  \n",
       "2                  18                    7              0.45   Rain  \n",
       "3                   9                    4              0.00   Rain  \n",
       "4                   8                    3              0.14   Rain  "
      ]
     },
     "execution_count": 24,
     "metadata": {},
     "output_type": "execute_result"
    }
   ],
   "source": [
    "weather.head()"
   ]
  },
  {
   "cell_type": "markdown",
   "metadata": {},
   "source": [
    "**3. Get Dummies for Events**"
   ]
  },
  {
   "cell_type": "code",
   "execution_count": 25,
   "metadata": {},
   "outputs": [
    {
     "data": {
      "text/plain": [
       "array(['Rain', nan, 'Rain , Snow', 'Fog', 'Fog , Rain',\n",
       "       'Rain , Thunderstorm', 'Fog-Rain', 'Snow', 'Rain-Thunderstorm',\n",
       "       'Rain-Snow'], dtype=object)"
      ]
     },
     "execution_count": 25,
     "metadata": {},
     "output_type": "execute_result"
    }
   ],
   "source": [
    "weather.events.unique()"
   ]
  },
  {
   "cell_type": "code",
   "execution_count": 26,
   "metadata": {},
   "outputs": [
    {
     "data": {
      "text/plain": [
       "<matplotlib.axes._subplots.AxesSubplot at 0x1a17a81b00>"
      ]
     },
     "execution_count": 26,
     "metadata": {},
     "output_type": "execute_result"
    },
    {
     "data": {
      "image/png": "[encoded data removed]",
      "text/plain": [
       "<Figure size 792x576 with 1 Axes>"
      ]
     },
     "metadata": {
      "needs_background": "light"
     },
     "output_type": "display_data"
    }
   ],
   "source": [
    "plt.figure(figsize = (11,8))\n",
    "sb.countplot(y=weather['events'])"
   ]
  },
  {
   "cell_type": "code",
   "execution_count": 27,
   "metadata": {},
   "outputs": [],
   "source": [
    "weather['events'] = weather['events'].replace({'Fog , Rain': 'Fog-Rain', 'Rain , Snow': 'Rain-Snow', 'Rain , Thunderstorm': 'Rain-Thunderstorm', 'Fog-Rain': 'Fog'})"
   ]
  },
  {
   "cell_type": "code",
   "execution_count": 28,
   "metadata": {},
   "outputs": [
    {
     "data": {
      "text/plain": [
       "<matplotlib.axes._subplots.AxesSubplot at 0x1a17bc99b0>"
      ]
     },
     "execution_count": 28,
     "metadata": {},
     "output_type": "execute_result"
    },
    {
     "data": {
      "image/png": "[encoded data removed]",
      "text/plain": [
       "<Figure size 792x576 with 1 Axes>"
      ]
     },
     "metadata": {
      "needs_background": "light"
     },
     "output_type": "display_data"
    }
   ],
   "source": [
    "plt.figure(figsize = (11,8))\n",
    "sb.countplot(y=weather['events'])"
   ]
  },
  {
   "cell_type": "code",
   "execution_count": 29,
   "metadata": {},
   "outputs": [],
   "source": [
    "# categorize \"events\" into rain or no rain\n",
    "weather.loc[weather.events == 'Rain', 'events'] = \"Rain\"\n",
    "weather.loc[weather.events.isnull(), 'events'] = \"Normal\""
   ]
  },
  {
   "cell_type": "code",
   "execution_count": 31,
   "metadata": {},
   "outputs": [
    {
     "name": "stdout",
     "output_type": "stream",
     "text": [
      "<class 'pandas.core.frame.DataFrame'>\n",
      "RangeIndex: 689 entries, 0 to 688\n",
      "Data columns (total 20 columns):\n",
      "date                          689 non-null datetime64[ns]\n",
      "max_temperature_f             689 non-null int64\n",
      "mean_temperature_f            689 non-null float64\n",
      "min_temperaturef              689 non-null int64\n",
      "max_dew_point_f               689 non-null int64\n",
      "meandew_point_f               689 non-null int64\n",
      "min_dewpoint_f                689 non-null int64\n",
      "max_humidity                  689 non-null int64\n",
      "mean_humidity                 689 non-null int64\n",
      "min_humidity                  689 non-null int64\n",
      "max_sea_level_pressure_in     689 non-null float64\n",
      "mean_sea_level_pressure_in    689 non-null float64\n",
      "min_sea_level_pressure_in     689 non-null float64\n",
      "max_visibility_miles          689 non-null int64\n",
      "mean_visibility_miles         689 non-null int64\n",
      "min_visibility_miles          689 non-null int64\n",
      "max_wind_speed_mph            689 non-null int64\n",
      "mean_wind_speed_mph           689 non-null int64\n",
      "precipitation_in              689 non-null float64\n",
      "events                        689 non-null object\n",
      "dtypes: datetime64[ns](1), float64(5), int64(13), object(1)\n",
      "memory usage: 107.7+ KB\n"
     ]
    }
   ],
   "source": [
    "weather.info()"
   ]
  },
  {
   "cell_type": "code",
   "execution_count": 32,
   "metadata": {},
   "outputs": [
    {
     "data": {
      "image/png": "[encoded data removed]",
      "text/plain": [
       "<Figure size 1152x576 with 1 Axes>"
      ]
     },
     "metadata": {
      "needs_background": "light"
     },
     "output_type": "display_data"
    }
   ],
   "source": [
    "plt.figure(figsize=(16, 8))\n",
    "sb.heatmap(weather.isnull(), yticklabels=False, cbar=False, cmap='viridis')\n",
    "plt.show()"
   ]
  },
  {
   "cell_type": "code",
   "execution_count": null,
   "metadata": {},
   "outputs": [],
   "source": []
  }
 ],
 "metadata": {
  "kernelspec": {
   "display_name": "Python [conda env:nf3] *",
   "language": "python",
   "name": "conda-env-nf3-py"
  },
  "language_info": {
   "codemirror_mode": {
    "name": "ipython",
    "version": 3
   },
   "file_extension": ".py",
   "mimetype": "text/x-python",
   "name": "python",
   "nbconvert_exporter": "python",
   "pygments_lexer": "ipython3",
   "version": "3.6.6"
  }
 },
 "nbformat": 4,
 "nbformat_minor": 2
}
